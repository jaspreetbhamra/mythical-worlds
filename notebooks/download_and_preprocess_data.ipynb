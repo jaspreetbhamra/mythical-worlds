{
 "cells": [
  {
   "cell_type": "code",
   "execution_count": 1,
   "id": "3f4afb32",
   "metadata": {},
   "outputs": [],
   "source": [
    "from pathlib import Path\n",
    "import os\n",
    "\n",
    "from ingestion.download_gutenberg import download_gutenberg_text\n",
    "from ingestion.preprocess import preprocess_file"
   ]
  },
  {
   "cell_type": "code",
   "execution_count": null,
   "id": "0085592e",
   "metadata": {},
   "outputs": [],
   "source": [
    "parent_path = Path(\"../data/\")"
   ]
  },
  {
   "cell_type": "code",
   "execution_count": 3,
   "id": "9103436d",
   "metadata": {},
   "outputs": [
    {
     "name": "stdout",
     "output_type": "stream",
     "text": [
      "✅ Saved 'iliad' to ../data/raw/iliad.txt\n",
      "✅ Saved 'odyssey' to ../data/raw/odyssey.txt\n",
      "✅ Saved 'aeneid' to ../data/raw/aeneid.txt\n",
      "✅ Saved 'metamorphoses' to ../data/raw/metamorphoses.txt\n",
      "✅ Saved 'beowulf' to ../data/raw/beowulf.txt\n",
      "✅ Saved 'poetic_edda' to ../data/raw/poetic_edda.txt\n",
      "✅ Saved 'prose_edda' to ../data/raw/prose_edda.txt\n",
      "✅ Saved 'nibelungenlied' to ../data/raw/nibelungenlied.txt\n",
      "✅ Saved 'le_morte_darthur' to ../data/raw/le_morte_darthur.txt\n",
      "❌ Failed for mabinogion: Failed to fetch https://www.gutenberg.org/files/19959/19959-0.txt, status: 404\n",
      "✅ Saved 'irish_fairy_tales' to ../data/raw/irish_fairy_tales.txt\n",
      "❌ Failed for arabian_nights_vol1: Failed to fetch https://www.gutenberg.org/files/5667/5667-0.txt, status: 404\n",
      "❌ Failed for arabian_nights_vol2: Failed to fetch https://www.gutenberg.org/files/5668/5668-0.txt, status: 404\n",
      "✅ Saved 'english_fairy_tales' to ../data/raw/english_fairy_tales.txt\n",
      "✅ Saved 'celtic_fairy_tales' to ../data/raw/celtic_fairy_tales.txt\n",
      "✅ Saved 'grimm_fairy_tales' to ../data/raw/grimm_fairy_tales.txt\n",
      "✅ Saved 'andersen_fairy_tales' to ../data/raw/andersen_fairy_tales.txt\n"
     ]
    }
   ],
   "source": [
    "texts_to_download = {\n",
    "    \"iliad\": 6130,\n",
    "    \"odyssey\": 1727,\n",
    "    \"aeneid\": 228,\n",
    "    \"metamorphoses\": 26073,\n",
    "    \"beowulf\": 16328,\n",
    "    \"poetic_edda\": 14726,\n",
    "    \"prose_edda\": 18947,\n",
    "    \"nibelungenlied\": 1151,\n",
    "    \"le_morte_darthur\": 1251,\n",
    "    \"mabinogion\": 19959,\n",
    "    \"irish_fairy_tales\": 30241,\n",
    "    \"arabian_nights_vol1\": 5667,\n",
    "    \"arabian_nights_vol2\": 5668,\n",
    "    \"english_fairy_tales\": 7439,\n",
    "    \"celtic_fairy_tales\": 10461,\n",
    "    \"grimm_fairy_tales\": 2591,\n",
    "    \"andersen_fairy_tales\": 1597,\n",
    "}\n",
    "\n",
    "\n",
    "for title, gid in texts_to_download.items():\n",
    "    try:\n",
    "        download_gutenberg_text(gid, title, save_dir=parent_path / \"raw\")\n",
    "    except Exception as e:\n",
    "        print(f\"❌ Failed for {title}: {e}\")"
   ]
  },
  {
   "cell_type": "code",
   "execution_count": 4,
   "id": "3bfd89b5",
   "metadata": {},
   "outputs": [
    {
     "name": "stdout",
     "output_type": "stream",
     "text": [
      "✅ Saved 305 chunks to ../data/processed/english_fairy_tales.jsonl\n",
      "✅ Saved 278 chunks to ../data/processed/andersen_fairy_tales.jsonl\n",
      "✅ Saved 844 chunks to ../data/processed/le_morte_darthur.jsonl\n",
      "✅ Saved 383 chunks to ../data/processed/irish_fairy_tales.jsonl\n",
      "✅ Saved 538 chunks to ../data/processed/aeneid.jsonl\n",
      "✅ Saved 196 chunks to ../data/processed/beowulf.jsonl\n",
      "✅ Saved 682 chunks to ../data/processed/celtic_fairy_tales.jsonl\n",
      "✅ Saved 506 chunks to ../data/processed/grimm_fairy_tales.jsonl\n",
      "✅ Saved 437 chunks to ../data/processed/poetic_edda.jsonl\n",
      "✅ Saved 947 chunks to ../data/processed/iliad.jsonl\n",
      "✅ Saved 336 chunks to ../data/processed/prose_edda.jsonl\n",
      "✅ Saved 698 chunks to ../data/processed/metamorphoses.jsonl\n",
      "✅ Saved 648 chunks to ../data/processed/odyssey.jsonl\n",
      "✅ Saved 516 chunks to ../data/processed/nibelungenlied.jsonl\n"
     ]
    }
   ],
   "source": [
    "raw_file_path = parent_path / \"raw\"\n",
    "\n",
    "for fname in os.listdir(raw_file_path):\n",
    "    if fname.endswith(\".txt\"):\n",
    "        preprocess_file(raw_file_path / fname, max_words=200, out_dir=parent_path / \"processed\")"
   ]
  },
  {
   "cell_type": "code",
   "execution_count": null,
   "id": "d546a3a9",
   "metadata": {},
   "outputs": [],
   "source": []
  }
 ],
 "metadata": {
  "kernelspec": {
   "display_name": "mythical_worlds",
   "language": "python",
   "name": "python3"
  },
  "language_info": {
   "codemirror_mode": {
    "name": "ipython",
    "version": 3
   },
   "file_extension": ".py",
   "mimetype": "text/x-python",
   "name": "python",
   "nbconvert_exporter": "python",
   "pygments_lexer": "ipython3",
   "version": "3.12.11"
  }
 },
 "nbformat": 4,
 "nbformat_minor": 5
}
