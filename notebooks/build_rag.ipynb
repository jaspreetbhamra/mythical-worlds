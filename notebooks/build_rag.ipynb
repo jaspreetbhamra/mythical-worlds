{
 "cells": [
  {
   "cell_type": "code",
   "execution_count": 1,
   "id": "89ecc59d",
   "metadata": {},
   "outputs": [],
   "source": [
    "from pathlib import Path\n",
    "\n",
    "from embeddings.embed_chunks import (\n",
    "    build_faiss_index,\n",
    "    embed_chunks,\n",
    "    load_chunks,\n",
    "    save_index,\n",
    ")"
   ]
  },
  {
   "cell_type": "code",
   "execution_count": 12,
   "id": "c910e1b1",
   "metadata": {},
   "outputs": [],
   "source": [
    "data_dir = Path(\"../data/\")\n",
    "processed_dir = data_dir / \"processed\"\n",
    "index_dir = data_dir / \"vector_store\""
   ]
  },
  {
   "cell_type": "markdown",
   "id": "cd43a21b",
   "metadata": {},
   "source": [
    "## Create the index"
   ]
  },
  {
   "cell_type": "code",
   "execution_count": 3,
   "id": "8463c368",
   "metadata": {},
   "outputs": [
    {
     "name": "stdout",
     "output_type": "stream",
     "text": [
      "✅ Loaded 7314 chunks from ../data/processed\n"
     ]
    }
   ],
   "source": [
    "# 1. Load\n",
    "chunks = load_chunks(processed_dir)"
   ]
  },
  {
   "cell_type": "code",
   "execution_count": 6,
   "id": "35c110df",
   "metadata": {},
   "outputs": [
    {
     "data": {
      "application/vnd.jupyter.widget-view+json": {
       "model_id": "348ff77771c1493ca9a35f52f29d6b1b",
       "version_major": 2,
       "version_minor": 0
      },
      "text/plain": [
       "modules.json:   0%|          | 0.00/349 [00:00<?, ?B/s]"
      ]
     },
     "metadata": {},
     "output_type": "display_data"
    },
    {
     "data": {
      "application/vnd.jupyter.widget-view+json": {
       "model_id": "6e51b5e87a434f829677476daa24a029",
       "version_major": 2,
       "version_minor": 0
      },
      "text/plain": [
       "config_sentence_transformers.json:   0%|          | 0.00/116 [00:00<?, ?B/s]"
      ]
     },
     "metadata": {},
     "output_type": "display_data"
    },
    {
     "data": {
      "application/vnd.jupyter.widget-view+json": {
       "model_id": "49b93681e90f47c994d28a4b7f5178bd",
       "version_major": 2,
       "version_minor": 0
      },
      "text/plain": [
       "README.md: 0.00B [00:00, ?B/s]"
      ]
     },
     "metadata": {},
     "output_type": "display_data"
    },
    {
     "data": {
      "application/vnd.jupyter.widget-view+json": {
       "model_id": "4a1b34d7a87b42bc88cf72dddb6025a4",
       "version_major": 2,
       "version_minor": 0
      },
      "text/plain": [
       "sentence_bert_config.json:   0%|          | 0.00/53.0 [00:00<?, ?B/s]"
      ]
     },
     "metadata": {},
     "output_type": "display_data"
    },
    {
     "data": {
      "application/vnd.jupyter.widget-view+json": {
       "model_id": "be123f3ecbd44cf2934ac9d25209dad4",
       "version_major": 2,
       "version_minor": 0
      },
      "text/plain": [
       "config.json:   0%|          | 0.00/612 [00:00<?, ?B/s]"
      ]
     },
     "metadata": {},
     "output_type": "display_data"
    },
    {
     "data": {
      "application/vnd.jupyter.widget-view+json": {
       "model_id": "c9ca0f878ec04e0ba0e7f42063da8183",
       "version_major": 2,
       "version_minor": 0
      },
      "text/plain": [
       "model.safetensors:   0%|          | 0.00/90.9M [00:00<?, ?B/s]"
      ]
     },
     "metadata": {},
     "output_type": "display_data"
    },
    {
     "data": {
      "application/vnd.jupyter.widget-view+json": {
       "model_id": "08183ff6103142c49bf113b84c769634",
       "version_major": 2,
       "version_minor": 0
      },
      "text/plain": [
       "tokenizer_config.json:   0%|          | 0.00/350 [00:00<?, ?B/s]"
      ]
     },
     "metadata": {},
     "output_type": "display_data"
    },
    {
     "data": {
      "application/vnd.jupyter.widget-view+json": {
       "model_id": "bd5d8bae8e724f87be07f8d591269faa",
       "version_major": 2,
       "version_minor": 0
      },
      "text/plain": [
       "vocab.txt: 0.00B [00:00, ?B/s]"
      ]
     },
     "metadata": {},
     "output_type": "display_data"
    },
    {
     "data": {
      "application/vnd.jupyter.widget-view+json": {
       "model_id": "d3bf1d1136de4f9bb51327ac7b19ef9a",
       "version_major": 2,
       "version_minor": 0
      },
      "text/plain": [
       "tokenizer.json: 0.00B [00:00, ?B/s]"
      ]
     },
     "metadata": {},
     "output_type": "display_data"
    },
    {
     "data": {
      "application/vnd.jupyter.widget-view+json": {
       "model_id": "9f4ab5071afc451db7100713236ce7c1",
       "version_major": 2,
       "version_minor": 0
      },
      "text/plain": [
       "special_tokens_map.json:   0%|          | 0.00/112 [00:00<?, ?B/s]"
      ]
     },
     "metadata": {},
     "output_type": "display_data"
    },
    {
     "data": {
      "application/vnd.jupyter.widget-view+json": {
       "model_id": "452fe388381e4375a08b6b39c927f0b3",
       "version_major": 2,
       "version_minor": 0
      },
      "text/plain": [
       "config.json:   0%|          | 0.00/190 [00:00<?, ?B/s]"
      ]
     },
     "metadata": {},
     "output_type": "display_data"
    },
    {
     "data": {
      "application/vnd.jupyter.widget-view+json": {
       "model_id": "e2935b48f29649d38a9d13a7bc389be5",
       "version_major": 2,
       "version_minor": 0
      },
      "text/plain": [
       "Batches:   0%|          | 0/229 [00:00<?, ?it/s]"
      ]
     },
     "metadata": {},
     "output_type": "display_data"
    },
    {
     "name": "stdout",
     "output_type": "stream",
     "text": [
      "✅ Generated embeddings with shape (7314, 384)\n"
     ]
    }
   ],
   "source": [
    "# 2. Embed\n",
    "embeddings = embed_chunks(chunks)"
   ]
  },
  {
   "cell_type": "code",
   "execution_count": 9,
   "id": "058606c4",
   "metadata": {},
   "outputs": [
    {
     "name": "stdout",
     "output_type": "stream",
     "text": [
      "✅ Built FAISS index with 7314 vectors\n"
     ]
    }
   ],
   "source": [
    "# 3. Build index\n",
    "index = build_faiss_index(embeddings)"
   ]
  },
  {
   "cell_type": "code",
   "execution_count": 13,
   "id": "2fcc5314",
   "metadata": {},
   "outputs": [
    {
     "name": "stdout",
     "output_type": "stream",
     "text": [
      "✅ Saved FAISS index + metadata to ../data/vector_store\n"
     ]
    }
   ],
   "source": [
    "# 4. Save\n",
    "save_index(index, chunks, index_dir=index_dir)"
   ]
  },
  {
   "cell_type": "markdown",
   "id": "72e109d1",
   "metadata": {},
   "source": [
    "## Run RAG"
   ]
  },
  {
   "cell_type": "markdown",
   "id": "80dbe689",
   "metadata": {},
   "source": [
    "```bash\n",
    "brew install ollama\n",
    "brew services start ollama\n",
    "```\n",
    "\n",
    "Ollama should be running now: http://localhost:11434\n",
    "\n",
    "---\n",
    "\n",
    "```bash\n",
    "ollama pull mistral\n",
    "```\n",
    "\n",
    "----\n",
    "\n",
    "Once done, \n",
    "```bash\n",
    "brew services stop ollama\n",
    "```"
   ]
  },
  {
   "cell_type": "code",
   "execution_count": null,
   "id": "3ad673ca",
   "metadata": {},
   "outputs": [],
   "source": []
  },
  {
   "cell_type": "code",
   "execution_count": null,
   "id": "a116c72b",
   "metadata": {},
   "outputs": [],
   "source": []
  }
 ],
 "metadata": {
  "kernelspec": {
   "display_name": "mythical_worlds",
   "language": "python",
   "name": "python3"
  },
  "language_info": {
   "codemirror_mode": {
    "name": "ipython",
    "version": 3
   },
   "file_extension": ".py",
   "mimetype": "text/x-python",
   "name": "python",
   "nbconvert_exporter": "python",
   "pygments_lexer": "ipython3",
   "version": "3.12.11"
  }
 },
 "nbformat": 4,
 "nbformat_minor": 5
}
